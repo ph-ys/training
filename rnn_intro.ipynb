{
 "cells": [
  {
   "cell_type": "markdown",
   "metadata": {},
   "source": [
    "# 系列データ（シークエンス）\n",
    "系列データとは特定の順序で並んでいて、互いに無関係ではないようなデータである。対して、時系列データとは各データに時間の次元が関連付けられている系列データである。\n",
    "- 株価、録音データ等 => 時系列データ\n",
    "- テキストデータ、DNA配列 => 系列データ"
   ]
  },
  {
   "cell_type": "markdown",
   "metadata": {},
   "source": [
    "## シーケンスモデルのカテゴリ\n",
    "入出力のデータが系列データかどうかで分類される。\n",
    "| カテゴリ |入力|出力|例|\n",
    "|----|----|----|----|\n",
    "|多対一|シーケンス|not シーケンス|感情分析|\n",
    "|一対多|not シーケンス|シーケンス|画像キャプショニング|\n",
    "|多対多|シーケンス|シーケンス|同期モデル：動画分類<br>遅延モデル：言語翻訳|"
   ]
  },
  {
   "cell_type": "markdown",
   "metadata": {},
   "source": [
    "## シーケンスモデルの構造\n",
    "RNNの構造には一般に系列データをモデル化するために、再帰的な要素が含まれている。これは例えば、隠れ層が1つ前の時間刻みの情報を得る構造（リカレントエッジ）になっている。\n",
    "再規特性をどう持つかによって分類できる。\n",
    "- 隠れ層から隠れ層への再帰\n",
    "- 出力層から隠れ層への再帰\n",
    "- 出力層から出力層への再帰\n",
    "Tensorflow keras API の `SinpleRNN` は出力層から出力層への再帰構造のモデルである。"
   ]
  },
  {
   "cell_type": "code",
   "execution_count": 1,
   "metadata": {},
   "outputs": [
    {
     "name": "stderr",
     "output_type": "stream",
     "text": [
      "2024-10-20 09:56:24.166102: I tensorflow/core/util/port.cc:153] oneDNN custom operations are on. You may see slightly different numerical results due to floating-point round-off errors from different computation orders. To turn them off, set the environment variable `TF_ENABLE_ONEDNN_OPTS=0`.\n",
      "2024-10-20 09:56:24.367721: E external/local_xla/xla/stream_executor/cuda/cuda_fft.cc:485] Unable to register cuFFT factory: Attempting to register factory for plugin cuFFT when one has already been registered\n",
      "2024-10-20 09:56:24.448314: E external/local_xla/xla/stream_executor/cuda/cuda_dnn.cc:8454] Unable to register cuDNN factory: Attempting to register factory for plugin cuDNN when one has already been registered\n",
      "2024-10-20 09:56:24.468085: E external/local_xla/xla/stream_executor/cuda/cuda_blas.cc:1452] Unable to register cuBLAS factory: Attempting to register factory for plugin cuBLAS when one has already been registered\n",
      "2024-10-20 09:56:24.613094: I tensorflow/core/platform/cpu_feature_guard.cc:210] This TensorFlow binary is optimized to use available CPU instructions in performance-critical operations.\n",
      "To enable the following instructions: AVX2 AVX_VNNI FMA, in other operations, rebuild TensorFlow with the appropriate compiler flags.\n",
      "2024-10-20 09:56:25.506042: W tensorflow/compiler/tf2tensorrt/utils/py_utils.cc:38] TF-TRT Warning: Could not find TensorRT\n"
     ]
    }
   ],
   "source": [
    "import tensorflow as tf"
   ]
  },
  {
   "cell_type": "code",
   "execution_count": 18,
   "metadata": {},
   "outputs": [
    {
     "name": "stdout",
     "output_type": "stream",
     "text": [
      "W_xh shape: (5, 2)\n",
      "W_oo shape: (2, 2)\n",
      "b_h shape: (2,)\n"
     ]
    }
   ],
   "source": [
    "tf.random.set_seed(1)\n",
    "model = tf.keras.Sequential()\n",
    "rnn_layer = tf.keras.layers.SimpleRNN(\n",
    "    units=2, use_bias=True, \n",
    "    return_sequences=True,\n",
    "    input_shape=(None, 5)) # batch_size , features\n",
    "model.add(rnn_layer)\n",
    "# rnn_layer.build(input_shape=(None, 5))\n",
    "# model.compile(loss='mse', optimizer='adam')\n",
    "\n",
    "# weights = model.get_weights()\n",
    "w_xh, w_oo, b_h = model.get_weights()\n",
    "# print(weights)\n",
    "# w_xh, w_oo, b_h = rnn_layer.weights\n",
    "print('W_xh shape:', w_xh.shape)\n",
    "print('W_oo shape:', w_oo.shape)\n",
    "print('b_h shape:', b_h.shape)"
   ]
  },
  {
   "cell_type": "markdown",
   "metadata": {},
   "source": [
    "Gemini 曰く\n",
    "- 最新のKerasでは、buildメソッドを明示的に呼び出す必要はありません。モデルのコンパイル時に自動的に呼び出されます。\n",
    "- 最新のKerasでは、input_shapeはモデルのコンパイル時に自動的に設定されることが一般的です。\n",
    "- SimpleRNNレイヤーにおいて、シーケンスの長さをinput_shapeで厳密に指定する必要はありません。"
   ]
  },
  {
   "cell_type": "code",
   "execution_count": 19,
   "metadata": {},
   "outputs": [
    {
     "name": "stdout",
     "output_type": "stream",
     "text": [
      "Time step 0 =>\n",
      "   Input           : [[1. 1. 1. 1. 1.]]\n",
      "   Hidden          : [[ 0.36025524 -0.39987028]]\n",
      "   Output (manual) : [[ 0.3454388 -0.379838 ]]\n",
      "   SimpleRNN output: [ 0.3454388 -0.379838 ]\n",
      "\n",
      "Time step 1 =>\n",
      "   Input           : [[2. 2. 2. 2. 2.]]\n",
      "   Hidden          : [[ 0.7205105  -0.79974055]]\n",
      "   Output (manual) : [[ 0.5282858  -0.29476205]]\n",
      "   SimpleRNN output: [ 0.5282858  -0.29476205]\n",
      "\n",
      "Time step 2 =>\n",
      "   Input           : [[3. 3. 3. 3. 3.]]\n",
      "   Hidden          : [[ 1.0807656 -1.1996108]]\n",
      "   Output (manual) : [[ 0.80702984 -0.5340762 ]]\n",
      "   SimpleRNN output: [ 0.80702984 -0.5340762 ]\n",
      "\n"
     ]
    }
   ],
   "source": [
    "x_seq = tf.convert_to_tensor(\n",
    "    [[1.0]*5, [2.0]*5, [3.0]*5],\n",
    "    dtype=tf.float32)\n",
    "\n",
    "\n",
    "## output of SimepleRNN:\n",
    "output = rnn_layer(tf.reshape(x_seq, shape=(1, 3, 5))) # batch_size, sequence length, features\n",
    "\n",
    "## manually computing the output:\n",
    "out_man = []\n",
    "for t in range(len(x_seq)):\n",
    "    xt = tf.reshape(x_seq[t], (1, 5))\n",
    "    print('Time step {} =>'.format(t))\n",
    "    print('   Input           :', xt.numpy())\n",
    "    \n",
    "    ht = tf.matmul(xt, w_xh) + b_h    \n",
    "    print('   Hidden          :', ht.numpy())\n",
    "    \n",
    "    if t>0:\n",
    "        prev_o = out_man[t-1]\n",
    "    else:\n",
    "        prev_o = tf.zeros(shape=(ht.shape))\n",
    "        \n",
    "    ot = ht + tf.matmul(prev_o, w_oo)\n",
    "    ot = tf.math.tanh(ot)\n",
    "    out_man.append(ot)\n",
    "    print('   Output (manual) :', ot.numpy())\n",
    "    print('   SimpleRNN output:'.format(t), output[0][t].numpy())\n",
    "    print()"
   ]
  },
  {
   "cell_type": "code",
   "execution_count": null,
   "metadata": {},
   "outputs": [],
   "source": []
  }
 ],
 "metadata": {
  "kernelspec": {
   "display_name": ".venv",
   "language": "python",
   "name": "python3"
  },
  "language_info": {
   "codemirror_mode": {
    "name": "ipython",
    "version": 3
   },
   "file_extension": ".py",
   "mimetype": "text/x-python",
   "name": "python",
   "nbconvert_exporter": "python",
   "pygments_lexer": "ipython3",
   "version": "3.12.2"
  }
 },
 "nbformat": 4,
 "nbformat_minor": 2
}
