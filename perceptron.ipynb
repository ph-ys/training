{
 "cells": [
  {
   "cell_type": "markdown",
   "metadata": {},
   "source": [
    "# perceptron"
   ]
  },
  {
   "cell_type": "markdown",
   "metadata": {},
   "source": [
    "パーセプトロンはいわば特徴量空間の線形調平面である。これによって特徴量空間にあるデータ点を分類するための決定領域を表す。\n",
    "前提としてデータ点が線形分離可能であることが必要であり、そうでなければ学習は収束しない。二値分類の場合、決定関数 $ \\phi $ は重みパラメータ $ \\bm{w} $ と入力データ $\\bm{x}_i$ の線形和\n",
    "$$\n",
    "z_i = \\bm{w}^{\\mathrm{T}} \\bm{x}_i = w^0 x^0 + \\cdots + w^m x^m\n",
    "$$\n",
    "(ただし、ここで $x^0=1$ とし、$w^0$ はバイアス)\n",
    "を引数として以下のように表される:\n",
    "$$\n",
    "\\phi(z_i) = \n",
    "    \\begin{cases}\n",
    "        +1 \\quad (z \\geqq 0) \\\\\n",
    "        -1 \\quad (z < 0) \\\\\n",
    "    \\end{cases}\n",
    "$$"
   ]
  },
  {
   "cell_type": "markdown",
   "metadata": {},
   "source": [
    "重みパラメータは次のように更新する:\n",
    "1. 適当な値でもって $\\bm{w}$ を初期化する\n",
    "2. 入力データを使って $\\phi$ の出力結果 $\\tilde{y_i}$ を得る\n",
    "3. 真のラベル $y_i$ と差分を取る\n",
    "4. 更新式に則って重み $\\bm{w}$ を更新する\n"
   ]
  },
  {
   "cell_type": "markdown",
   "metadata": {},
   "source": [
    "更新式は\n",
    "$$\n",
    "\\bm{w} := \\bm{w} + \\Delta \\bm{w}, \\quad \\Delta \\bm{w} = \\eta(y_i - \\tilde{y}) \\bm{x}_i\n",
    "$$\n",
    "によってあらわされ、 $\\eta$ は学習率と呼ばれる更新の大きさを調整するためのハイパーパラメータである。"
   ]
  },
  {
   "cell_type": "markdown",
   "metadata": {},
   "source": []
  }
 ],
 "metadata": {
  "language_info": {
   "name": "python"
  }
 },
 "nbformat": 4,
 "nbformat_minor": 2
}
